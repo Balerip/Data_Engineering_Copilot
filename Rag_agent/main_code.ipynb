{
 "cells": [
  {
   "cell_type": "code",
   "execution_count": 1,
   "id": "7d39c66b-9aa4-41d9-9050-6b6557b7ba57",
   "metadata": {},
   "outputs": [],
   "source": [
    "import llama_index"
   ]
  },
  {
   "cell_type": "code",
   "execution_count": 3,
   "id": "31ef1ee4-e5b3-4a65-951c-b264ad93f57a",
   "metadata": {},
   "outputs": [],
   "source": [
    "from llama_index.core import SimpleDirectoryReader\n",
    "\n"
   ]
  },
  {
   "cell_type": "code",
   "execution_count": 5,
   "id": "6def18d3-31d5-4d97-bc35-77887ba6fdd1",
   "metadata": {},
   "outputs": [],
   "source": [
    "reader = SimpleDirectoryReader(input_files=[\"/Users/panchamibaleri/Desktop/NuGpt/Analytics.txt\",\"/Users/panchamibaleri/Desktop/NuGpt/Computer_Science.txt\",\"/Users/panchamibaleri/Desktop/NuGpt/Datascience.txt\",\"/Users/panchamibaleri/Desktop/NuGpt/Information_Systems.txt\",\"/Users/panchamibaleri/Desktop/NuGpt/Project_Management.txt\"])\n",
    "documents = reader.load_data()"
   ]
  },
  {
   "cell_type": "code",
   "execution_count": 7,
   "id": "b09febef-f165-418c-bea8-4ae401380f62",
   "metadata": {},
   "outputs": [],
   "source": [
    "from llama_index.llms.ollama import Ollama\n",
    "\n",
    "from llama_index.core import Settings"
   ]
  },
  {
   "cell_type": "code",
   "execution_count": 9,
   "id": "482119dc-4aa3-4fec-beb2-c59f62e4fc4e",
   "metadata": {},
   "outputs": [],
   "source": [
    "llm=Ollama(model=\"llama3\", request_timeout=80.0)"
   ]
  },
  {
   "cell_type": "code",
   "execution_count": 11,
   "id": "9f64f68c-570c-4c6e-95d2-4147ebbe0f29",
   "metadata": {},
   "outputs": [],
   "source": [
    "from llama_index.embeddings.ollama import OllamaEmbedding\n",
    "\n",
    "ollama_embedding = OllamaEmbedding(\n",
    "    model_name=\"mxbai-embed-large\",\n",
    "   \n",
    ")\n"
   ]
  },
  {
   "cell_type": "code",
   "execution_count": 13,
   "id": "ff10e286-2f5f-4fa6-8adb-9ac11a73923b",
   "metadata": {},
   "outputs": [],
   "source": [
    "Settings.embed_model = ollama_embedding\n",
    "Settings.llm = llm"
   ]
  },
  {
   "cell_type": "code",
   "execution_count": 15,
   "id": "384e745c-012c-42e9-9d08-d44c6986079b",
   "metadata": {},
   "outputs": [],
   "source": [
    "response = llm.complete(\"Who is Paul Graham?\")"
   ]
  },
  {
   "cell_type": "code",
   "execution_count": 16,
   "id": "ec4ee83b-5010-413c-935b-6926dee90fe8",
   "metadata": {},
   "outputs": [
    {
     "name": "stdout",
     "output_type": "stream",
     "text": [
      "Paul Graham is an American computer programmer, entrepreneur, and writer. He is best known for being a co-founder of Yahoo!, as well as the founder of several other successful companies, including Viaweb (which was later sold to Yahoo!) and Y Combinator (YC), a seed funding firm that has backed many notable startups.\n",
      "\n",
      "Graham is also a prominent author and blogger on topics related to entrepreneurship, technology, and innovation. His blog, which he started in 2002, features essays on a wide range of subjects, from the nature of programming languages to the challenges of running a startup.\n",
      "\n",
      "Some of Graham's most influential ideas include:\n",
      "\n",
      "1. The \"Maker\" mentality: Graham argues that successful entrepreneurs are often people who enjoy making things, whether it's software, hardware, or something else.\n",
      "2. The importance of simplicity: He believes that complex systems are inherently less robust and more prone to failure than simple ones.\n",
      "3. The power of iteration: Graham advocates for a rapid-iteration approach to product development, where entrepreneurs quickly test and refine their ideas through continuous feedback from customers.\n",
      "4. The value of domain expertise: He emphasizes the importance of founders having deep knowledge of the specific problem they're trying to solve, rather than relying solely on general business acumen.\n",
      "\n",
      "Graham's writing has been widely influential in the startup community, and his ideas have been applied by entrepreneurs and investors around the world.\n"
     ]
    }
   ],
   "source": [
    "print(response)"
   ]
  },
  {
   "cell_type": "code",
   "execution_count": 17,
   "id": "d0cc3ec1-be1d-49d7-9ed7-c75abb1fe54d",
   "metadata": {},
   "outputs": [],
   "source": [
    "# response=llm.complete(\"Tell me about compilers course from the documents\")"
   ]
  },
  {
   "cell_type": "code",
   "execution_count": 18,
   "id": "fd0c1461-6a35-4296-9319-934797d1f69d",
   "metadata": {},
   "outputs": [],
   "source": [
    "# print(response)"
   ]
  },
  {
   "cell_type": "code",
   "execution_count": 19,
   "id": "1fa40f71-e921-4091-ba1b-66b2b41fbee5",
   "metadata": {},
   "outputs": [],
   "source": [
    "# !pip install llama-index-vector-stores-faiss faiss-cpu"
   ]
  },
  {
   "cell_type": "code",
   "execution_count": 31,
   "id": "7c2b8f64-95d9-4152-a19d-002877cf3bb9",
   "metadata": {},
   "outputs": [],
   "source": [
    "from llama_index.core import VectorStoreIndex\n",
    "# from llama_index.vector_stores.chroma import ChromaVectorStore\n",
    "# import chromadb\n",
    "# from llama_index.core import StorageContext\n",
    "# chroma_client = chromadb.EphemeralClient()\n",
    "\n",
    "# # Try to create a new collection, handle the error if it already exists\n",
    "# collection_name = \"quickstart\"\n",
    "\n",
    "# try:\n",
    "#     chroma_collection = chroma_client.create_collection(name=collection_name)\n",
    "# except :\n",
    "#     # If the collection already exists, get it instead\n",
    "#     chroma_collection = chroma_client.get_collection(name=collection_name)\n",
    "\n",
    "# # Set up ChromaVectorStore and load in data\n",
    "# vector_store = ChromaVectorStore(chroma_collection=chroma_collection)\n",
    "# storage_context = StorageContext.from_defaults(vector_store=vector_store)\n",
    "\n",
    "# # Assuming `documents` and `embed_model` are defined\n",
    "# index = VectorStoreIndex.from_documents(\n",
    "#     documents, storage_context=storage_context,embed_model=Settings.embed_model\n",
    "# )\n",
    "\n",
    "\n"
   ]
  },
  {
   "cell_type": "code",
   "execution_count": 33,
   "id": "6586e2a9-9bf7-4b1f-a9d3-cbb310e49e12",
   "metadata": {},
   "outputs": [],
   "source": [
    "# pip install llama-index-vector-stores-chroma"
   ]
  },
  {
   "cell_type": "code",
   "execution_count": 35,
   "id": "da73f85a-b568-4b42-acf8-32df35ca1561",
   "metadata": {},
   "outputs": [],
   "source": [
    "index = VectorStoreIndex.from_documents(documents)"
   ]
  },
  {
   "cell_type": "code",
   "execution_count": 36,
   "id": "403087ba-a19e-43a9-9de8-1c38f21ada30",
   "metadata": {},
   "outputs": [],
   "source": [
    "# query_engine = index.as_query_engine()\n",
    "# response = query_engine.query(\"Who is Paul Graham?\")\n",
    "# print(response)"
   ]
  },
  {
   "cell_type": "code",
   "execution_count": 37,
   "id": "a1203306-0fe8-429a-a578-8b3dd907bae1",
   "metadata": {},
   "outputs": [],
   "source": [
    "# system_instructions =\"\"\"\n",
    "# # CONTEXT #\n",
    "# I am NUGPT, a helpful, fun, and friendly chat assistant for Northeastern University. My primary function is to provide detailed information about the courses offered at Northeastern University, in various programs like Computer Science, Data Science, Information Systems, Project Management, and CPS Analytics. I am equipped to answer questions regarding Course Titles, Course Descriptions, Course Codes, Pre-Requisites, and Co-Requisites.\n",
    "\n",
    "# #########\n",
    "\n",
    "# # OBJECTIVE #\n",
    "# Your task is to accurately and efficiently answer questions related to Northeastern University's courses in various programs like Computer Science, Data Science, Information Systems, Project Management, and CPS Analytics. This includes providing comprehensive information on Course Titles, Course Descriptions, Course Codes, Pre-Requisites, and Co-Requisites. If you encounter a question that is not related to the course data you are trained on, respond appropriately. Ensure that students receive precise and relevant information to help them make informed decisions about their academic paths.\n",
    "\n",
    "# #########\n",
    "\n",
    "# # STYLE #\n",
    "# Write in an informative and instructional style, similar to an academic advisor. Ensure clarity and coherence in presenting each course's information, making it easy for students to understand and use the information provided.\n",
    "\n",
    "# #########\n",
    "\n",
    "# # TONE #\n",
    "# Maintain a positive, motivational, and approachable tone throughout. Your responses should feel supportive and engaging, like a knowledgeable peer or advisor offering valuable insights and guidance.\n",
    "\n",
    "# # AUDIENCE #\n",
    "# The target audience is current students at Northeastern University, particularly those interested in Computer Science, Data Science, Information Systems, Project Management, and CPS Analytics courses. Assume a readership that is looking for detailed, accurate, and practical academic advice to guide their course selections and academic planning.\n",
    "\n",
    "# #########\n",
    "\n",
    "# # RESPONSE FORMAT #\n",
    "# 1. If a question pertains to the courses at Northeastern University, provide:\n",
    "#    - **Course Code:** [Code of the course]\n",
    "#    - **Course Title:** [Title of the course]\n",
    "#    - **Course Description:** [Brief description of the course content and objectives]\n",
    "#    - **Pre-Requisites:** [List of courses or requirements that must be completed before enrolling]\n",
    "#    - **Co-Requisites:** [List of courses that must be taken concurrently, if any]\n",
    "\n",
    "# 2. If you don't have the answer to a specific question, respond with:\n",
    "#    \"I don't know.\"\n",
    "\n",
    "# 3. If a question is not related to Northeastern University courses, respond with:\n",
    "#    \"I only answer questions about Northeastern Courses.\"\n",
    "   \n",
    "# 4. If a question is asked from a specific program, give answers only related to that program and not from other programs.\n",
    "#    For example: if asked about the prerequisites for Web Development Tools and Methods in the Information Systems program, you should respond with:\n",
    "#    INFO 5100 with a minimum grade of B- or INFO 5100 with a minimum grade of B-\n",
    "\n",
    "#    If the course is not in that program, then respond with:\n",
    "#    \"I only answer questions about courses from the program given in the question.\"\n",
    "\n",
    "#    This should be followed for each of the programs offered at the university.\n",
    "\n",
    "# #############\n",
    "\n",
    "# # START ANALYSIS #\n",
    "# If you understand, ask me a question about Northeastern University's courses.\n",
    "# \"\"\"\n",
    "\n",
    "# # Example question\n",
    "# question = \"Tell me about the prerequisites for the Web Development Tools and Methods course?\"\n",
    "\n",
    "# # Combining the prompt\n",
    "\n",
    "\n",
    "# prompt = system_instructions + question\n",
    "# chat_engine = index.as_chat_engine(llm=llm, chat_mode=\"react\", verbose=True,max_iterations=10)\n",
    "# response = chat_engine.query(prompt)\n"
   ]
  },
  {
   "cell_type": "code",
   "execution_count": 38,
   "id": "bcb22677-8cbe-44b1-850e-cf58657e9991",
   "metadata": {},
   "outputs": [],
   "source": [
    "# print(response)"
   ]
  },
  {
   "cell_type": "code",
   "execution_count": 39,
   "id": "c5eb48a3-e493-4da5-af94-5038b93e0519",
   "metadata": {},
   "outputs": [],
   "source": [
    "# response = chat_engine.query(\"What is Compilers course all about?\")"
   ]
  },
  {
   "cell_type": "code",
   "execution_count": 40,
   "id": "b149486d-3059-4770-b4c0-04eeb9a85b5e",
   "metadata": {},
   "outputs": [
    {
     "name": "stdout",
     "output_type": "stream",
     "text": [
      "Paul Graham is an American computer programmer, entrepreneur, and writer. He is best known for being a co-founder of Yahoo!, as well as the founder of several other successful companies, including Viaweb (which was later sold to Yahoo!) and Y Combinator (YC), a seed funding firm that has backed many notable startups.\n",
      "\n",
      "Graham is also a prominent author and blogger on topics related to entrepreneurship, technology, and innovation. His blog, which he started in 2002, features essays on a wide range of subjects, from the nature of programming languages to the challenges of running a startup.\n",
      "\n",
      "Some of Graham's most influential ideas include:\n",
      "\n",
      "1. The \"Maker\" mentality: Graham argues that successful entrepreneurs are often people who enjoy making things, whether it's software, hardware, or something else.\n",
      "2. The importance of simplicity: He believes that complex systems are inherently less robust and more prone to failure than simple ones.\n",
      "3. The power of iteration: Graham advocates for a rapid-iteration approach to product development, where entrepreneurs quickly test and refine their ideas through continuous feedback from customers.\n",
      "4. The value of domain expertise: He emphasizes the importance of founders having deep knowledge of the specific problem they're trying to solve, rather than relying solely on general business acumen.\n",
      "\n",
      "Graham's writing has been widely influential in the startup community, and his ideas have been applied by entrepreneurs and investors around the world.\n"
     ]
    }
   ],
   "source": [
    "print(response)"
   ]
  },
  {
   "cell_type": "code",
   "execution_count": 123,
   "id": "107e6d58-793d-4649-a381-6635288d1a37",
   "metadata": {},
   "outputs": [
    {
     "name": "stdout",
     "output_type": "stream",
     "text": [
      "> Running step ef15b3a3-2a77-4c60-a38c-91cebda6efee. Step input: Provide details about Theory and Methods in Human Computer Interaction course and its pre-requisites.\n",
      "\u001b[1;3;38;5;200mThought: The user wants information about a specific course, \"Theory and Methods in Human-Computer Interaction\". I need to use a tool to help me answer the question.\n",
      "Action: query_engine_tool\n",
      "Action Input: {'input': 'What is Theory and Methods in Human-Computer Interaction course? What are its pre-requisites?', 'num_beams': 5}\n",
      "\u001b[0m\u001b[1;3;34mObservation: Theory and Methods in Human Computer Interaction (4 Hours) covers the foundations of human abilities, computational artifacts, design, and evaluation. It introduces cognitive, perceptual, and affective theories and theories of individual differences that allow us to design and develop better computer software and systems. Also covers research methods for designing and evaluating computer software systems.\n",
      "\u001b[0m> Running step ebe4f960-d605-474d-a26d-bf11e72f4908. Step input: None\n",
      "\u001b[1;3;38;5;200mThought: The user got some information about the course, but I need more details about its pre-requisites.\n",
      "Action: query_engine_tool\n",
      "Action Input: {'input': 'What are the pre-requisites for Theory and Methods in Human-Computer Interaction course? Is it a beginner-friendly course or does one need prior knowledge of computer science?', 'num_beams': 5}\n",
      "\u001b[0m\u001b[1;3;34mObservation: The prerequisite for CS 7340. Theory and Methods in Human Computer Interaction is not explicitly mentioned in the provided context information, but it is likely that some background knowledge of human-computer interaction or related fields would be beneficial to fully understand the course material. The course seems to focus on the foundations of human abilities, computational artifacts, design, and evaluation, which may require some prior understanding of these concepts.\n",
      "\u001b[0m> Running step 3b0e7a0b-03bc-4b03-b5c0-6a4bf8ef2897. Step input: None\n",
      "\u001b[1;3;38;5;200mThought: I can answer without using any more tools. I'll use the user's language to answer\n",
      "Answer: The Theory and Methods in Human Computer Interaction course likely requires some background knowledge of human-computer interaction or related fields to fully understand its material, although it is not explicitly stated as a prerequisite. A prior understanding of concepts such as foundations of human abilities, computational artifacts, design, and evaluation may also be helpful.\n",
      "\u001b[0mThe Theory and Methods in Human Computer Interaction course likely requires some background knowledge of human-computer interaction or related fields to fully understand its material, although it is not explicitly stated as a prerequisite. A prior understanding of concepts such as foundations of human abilities, computational artifacts, design, and evaluation may also be helpful.\n"
     ]
    }
   ],
   "source": [
    "response = chat_engine.query(\"Provide details about Theory and Methods in Human Computer Interaction course and its pre-requisites.\")\n",
    "print(response)"
   ]
  },
  {
   "cell_type": "code",
   "execution_count": 213,
   "id": "71160d11-619a-46f4-88f8-7252b8e30671",
   "metadata": {},
   "outputs": [],
   "source": [
    "query_engine = index.as_query_engine(similarity_top_k=3)"
   ]
  },
  {
   "cell_type": "code",
   "execution_count": 175,
   "id": "364bf0e4-bc03-4eeb-92df-eee2b87e9deb",
   "metadata": {},
   "outputs": [],
   "source": [
    "response = query_engine.query(\"What is Compilers course all about?\")"
   ]
  },
  {
   "cell_type": "code",
   "execution_count": 177,
   "id": "f9bbda35-cb21-47ce-9b9a-bb5fdb286501",
   "metadata": {},
   "outputs": [
    {
     "name": "stdout",
     "output_type": "stream",
     "text": [
      "The CS 4410. Compilers course studies the construction of compilers and integrates material from earlier courses on programming languages, automata theory, computer architecture, and software design. It examines syntax trees; static semantics; type checking; typical machine architectures and their software structures; code generation; lexical analysis; and parsing techniques.\n"
     ]
    }
   ],
   "source": [
    "print(response)"
   ]
  },
  {
   "cell_type": "code",
   "execution_count": 215,
   "id": "3293d562-f12d-4e58-a523-837664d0d794",
   "metadata": {},
   "outputs": [],
   "source": [
    "from llama_index.core import (\n",
    "    SimpleDirectoryReader,\n",
    "    VectorStoreIndex,\n",
    "    StorageContext,\n",
    "    load_index_from_storage,\n",
    ")\n",
    "\n",
    "from llama_index.core.tools import QueryEngineTool, ToolMetadata"
   ]
  },
  {
   "cell_type": "code",
   "execution_count": 271,
   "id": "bf9087f5-ed10-4ecf-a106-6f790aefc282",
   "metadata": {},
   "outputs": [
    {
     "name": "stdout",
     "output_type": "stream",
     "text": [
      "> Running step 2b1c03f8-0d07-416b-9fd4-8908c34f3f3a. Step input: Tell me about the compilers course ?\n",
      "\u001b[1;3;38;5;200mThought: The current language of the user is: English. I need to use a tool to help me answer the question.\n",
      "Action: QueryEngineTool\n",
      "Action Input: {'type': 'object', 'properties': AttributedDict([('input', AttributedDict([('title', 'Input'), ('type', 'string')]))]), 'required': ['input'], 'input': 'compilers course'}\n",
      "\u001b[0m\u001b[1;3;34mObservation: CS 4410. Compilers. (4 Hours)\n",
      "\n",
      "Studies the construction of compilers and integrates material from earlier courses on programming languages, automata theory, computer architecture, and software design. Examines syntax trees; static semantics; type checking; typical machine architectures and their software structures; code generation; lexical analysis; and parsing techniques. Uses a hands-on approach with a substantial term project.\n",
      "\n",
      "Prerequisite(s): CS 4400 with a minimum grade of D- or CS 5400 with a minimum grade of C- or CS 7400 with a minimum grade of C\n",
      "\n",
      "Attribute(s): NUpath Capstone Experience, NUpath Writing Intensive\n",
      "\u001b[0m> Running step ff7db58b-42d7-4c90-a914-481a972e174f. Step input: None\n",
      "\u001b[1;3;38;5;200mThought: I can answer without using any more tools. I'll use the user's language to answer\n",
      "Answer: The compilers course (CS 4410) is a computer science course that studies the construction of compilers and integrates material from earlier courses on programming languages, automata theory, computer architecture, and software design.\n",
      "\u001b[0mThe compilers course (CS 4410) is a computer science course that studies the construction of compilers and integrates material from earlier courses on programming languages, automata theory, computer architecture, and software design.\n"
     ]
    }
   ],
   "source": [
    "from llama_index.core.tools import QueryEngineTool, ToolMetadata\n",
    "from llama_index.core.agent import ReActAgent\n",
    "\n",
    "# Define metadata for the tool\n",
    "metadata = ToolMetadata(\n",
    "    name=\"QueryEngineTool\",\n",
    "    description=(\"Handles queries related to Computer Science courses, Information system courses, Data Science courses, Project Management courses and Analytics courses.\")\n",
    ")\n",
    "\n",
    "# Initialize the query engine tool with metadata\n",
    "query_engine_tool = QueryEngineTool(\n",
    "    query_engine=query_engine,\n",
    "    metadata=metadata\n",
    ")\n",
    "\n",
    "system_instructions =\"\"\"\n",
    "# CONTEXT #\n",
    "I am NUGPT, a helpful, fun, and friendly chat assistant for Northeastern University. My primary function is to provide detailed information about the courses offered at Northeastern University, in various programs like Computer Science, Data Science, Information Systems, Project Management, and CPS Analytics. I am equipped to answer questions regarding Course Titles, Course Descriptions, Course Codes, Pre-Requisites, and Co-Requisites.\n",
    "\n",
    "#########\n",
    "\n",
    "# OBJECTIVE #\n",
    "Your task is to accurately and efficiently answer questions related to Northeastern University's courses in various programs like Computer Science, Data Science, Information Systems, Project Management, and CPS Analytics. This includes providing comprehensive information on Course Titles, Course Descriptions, Course Codes, Pre-Requisites, and Co-Requisites. If you encounter a question that is not related to the course data you are trained on, respond appropriately. Ensure that students receive precise and relevant information to help them make informed decisions about their academic paths.\n",
    "\n",
    "#########\n",
    "\n",
    "# STYLE #\n",
    "Write in an informative and instructional style, similar to an academic advisor. Ensure clarity and coherence in presenting each course's information, making it easy for students to understand and use the information provided.\n",
    "\n",
    "#########\n",
    "\n",
    "# TONE #\n",
    "Maintain a positive, motivational, and approachable tone throughout. Your responses should feel supportive and engaging, like a knowledgeable peer or advisor offering valuable insights and guidance.\n",
    "\n",
    "# AUDIENCE #\n",
    "The target audience is current students at Northeastern University, particularly those interested in Computer Science, Data Science, Information Systems, Project Management, and CPS Analytics courses. Assume a readership that is looking for detailed, accurate, and practical academic advice to guide their course selections and academic planning.\n",
    "\n",
    "#########\n",
    "\n",
    "# RESPONSE FORMAT #\n",
    "1. If a question pertains to the courses at Northeastern University, provide:\n",
    "   - **Course Code:** [Code of the course]\n",
    "   - **Course Title:** [Title of the course]\n",
    "   - **Course Description:** [Brief description of the course content and objectives]\n",
    "   - **Pre-Requisites:** [List of courses or requirements that must be completed before enrolling]\n",
    "   - **Co-Requisites:** [List of courses that must be taken concurrently, if any]\n",
    "\n",
    "2. If you don't have the answer to a specific question, respond with:\n",
    "   \"I don't know.\"\n",
    "\n",
    "3. If a question is not related to Northeastern University courses, respond with:\n",
    "   \"I only answer questions about Northeastern Courses.\"\n",
    "   \n",
    "4. If a question is asked from a specific program, give answers only related to that program and not from other programs.\n",
    "   For example: if asked about the prerequisites for Web Development Tools and Methods in the Information Systems program, you should respond with:\n",
    "   INFO 5100 with a minimum grade of B- or INFO 5100 with a minimum grade of B-\n",
    "\n",
    "   If the course is not in that program, then respond with:\n",
    "   \"I only answer questions about courses from the program given in the question.\"\n",
    "\n",
    "   This should be followed for each of the programs offered at the university.\n",
    "\n",
    "#############\n",
    "\n",
    "# START ANALYSIS #\n",
    "If you understand, ask me a question about Northeastern University's courses.\n",
    "\"\"\"\n",
    "\n",
    "# Example question\n",
    "question = \"Tell me about the compilers course ?\"\n",
    "\n",
    "\n",
    "\n",
    "# Define ReAct Agent with the query engine tool\n",
    "agent = ReActAgent.from_tools([query_engine_tool], llm=llm, verbose=True,max_iterations=1)\n",
    "query=question\n",
    "# Example query\n",
    "response = agent.chat(query)\n",
    "print(response)"
   ]
  },
  {
   "cell_type": "code",
   "execution_count": 277,
   "id": "711e3876-d5b0-45cd-a17d-75b56d30e0c0",
   "metadata": {},
   "outputs": [],
   "source": [
    "question=\"Tell me the prerequisites for INFO 6205. Program Structure and Algorithms\"\n",
    "query=system_instructions+question"
   ]
  },
  {
   "cell_type": "code",
   "execution_count": 280,
   "id": "e3c91593-bf22-4caa-9966-ec29f89f22bb",
   "metadata": {},
   "outputs": [
    {
     "name": "stdout",
     "output_type": "stream",
     "text": [
      "> Running step 5092fbfb-d07a-4462-a581-27265142412e. Step input: \n",
      "# CONTEXT #\n",
      "I am NUGPT, a helpful, fun, and friendly chat assistant for Northeastern University. My primary function is to provide detailed information about the courses offered at Northeastern University, in various programs like Computer Science, Data Science, Information Systems, Project Management, and CPS Analytics. I am equipped to answer questions regarding Course Titles, Course Descriptions, Course Codes, Pre-Requisites, and Co-Requisites.\n",
      "\n",
      "#########\n",
      "\n",
      "# OBJECTIVE #\n",
      "Your task is to accurately and efficiently answer questions related to Northeastern University's courses in various programs like Computer Science, Data Science, Information Systems, Project Management, and CPS Analytics. This includes providing comprehensive information on Course Titles, Course Descriptions, Course Codes, Pre-Requisites, and Co-Requisites. If you encounter a question that is not related to the course data you are trained on, respond appropriately. Ensure that students receive precise and relevant information to help them make informed decisions about their academic paths.\n",
      "\n",
      "#########\n",
      "\n",
      "# STYLE #\n",
      "Write in an informative and instructional style, similar to an academic advisor. Ensure clarity and coherence in presenting each course's information, making it easy for students to understand and use the information provided.\n",
      "\n",
      "#########\n",
      "\n",
      "# TONE #\n",
      "Maintain a positive, motivational, and approachable tone throughout. Your responses should feel supportive and engaging, like a knowledgeable peer or advisor offering valuable insights and guidance.\n",
      "\n",
      "# AUDIENCE #\n",
      "The target audience is current students at Northeastern University, particularly those interested in Computer Science, Data Science, Information Systems, Project Management, and CPS Analytics courses. Assume a readership that is looking for detailed, accurate, and practical academic advice to guide their course selections and academic planning.\n",
      "\n",
      "#########\n",
      "\n",
      "# RESPONSE FORMAT #\n",
      "1. If a question pertains to the courses at Northeastern University, provide:\n",
      "   - **Course Code:** [Code of the course]\n",
      "   - **Course Title:** [Title of the course]\n",
      "   - **Course Description:** [Brief description of the course content and objectives]\n",
      "   - **Pre-Requisites:** [List of courses or requirements that must be completed before enrolling]\n",
      "   - **Co-Requisites:** [List of courses that must be taken concurrently, if any]\n",
      "\n",
      "2. If you don't have the answer to a specific question, respond with:\n",
      "   \"I don't know.\"\n",
      "\n",
      "3. If a question is not related to Northeastern University courses, respond with:\n",
      "   \"I only answer questions about Northeastern Courses.\"\n",
      "   \n",
      "4. If a question is asked from a specific program, give answers only related to that program and not from other programs.\n",
      "   For example: if asked about the prerequisites for Web Development Tools and Methods in the Information Systems program, you should respond with:\n",
      "   INFO 5100 with a minimum grade of B- or INFO 5100 with a minimum grade of B-\n",
      "\n",
      "   If the course is not in that program, then respond with:\n",
      "   \"I only answer questions about courses from the program given in the question.\"\n",
      "\n",
      "   This should be followed for each of the programs offered at the university.\n",
      "\n",
      "#############\n",
      "\n",
      "# START ANALYSIS #\n",
      "If you understand, ask me a question about Northeastern University's courses.\n",
      "Tell me the prerequisites for INFO 6205. Program Structure and Algorithms\n",
      "\u001b[1;3;38;5;200mThought: The user is asking about the prerequisites for INFO 6205. Program Structure and Algorithms in the context of Northeastern University.\n",
      "Action: QueryEngineTool\n",
      "Action Input: {'type': 'object', 'properties': AttributedDict([('input', AttributedDict([('title', 'Input'), ('type', 'string')]))]), 'required': ['input']}\n",
      "\u001b[0m\u001b[1;3;34mObservation: The provided context information appears to be a course catalog or curriculum outline for a Computer Science program. It lists various courses, their descriptions, prerequisites, and corequisites.\n",
      "\n",
      "Based on the query format, it seems that you are asking for an object with properties related to input. Given the context information, I will provide an answer that matches this query structure.\n",
      "\n",
      "Here is my answer:\n",
      "\n",
      "```\n",
      "{\n",
      "  \"type\": \"object\",\n",
      "  \"properties\": {\n",
      "    \"input\": {\n",
      "      \"title\": \"Introduction to Computer Science Research\",\n",
      "      \"type\": \"string\"\n",
      "    }\n",
      "  },\n",
      "  \"required\": [\"input\"]\n",
      "}\n",
      "```\n",
      "\u001b[0m> Running step 5aba149a-3bc1-4363-96ec-89540672cf37. Step input: None\n",
      "\u001b[1;3;38;5;200mThought: I see that you're providing an answer in the query format. However, I need to check if it matches the question being asked.\n",
      "Action: None\n",
      "Action Input: {'type': 'object'}\n",
      "\u001b[0m\u001b[1;3;34mObservation: Error: No such tool named `None`.\n",
      "\u001b[0m> Running step 2d828f5a-8cdf-4c50-8cc0-da415d9d207d. Step input: None\n",
      "\u001b[1;3;38;5;200mThought: It seems like there's no matching course code for INFO 6205 in the provided context information. I'll need to provide an answer based on my knowledge.\n",
      "Action: None\n",
      "Action Input: {'type': 'object'}\n",
      "\u001b[0m\u001b[1;3;34mObservation: Error: No such tool named `None`.\n",
      "\u001b[0m> Running step dd2fb1ac-f208-4199-b75b-c66d90d381f5. Step input: None\n",
      "\u001b[1;3;38;5;200mThought: I apologize for the mistake earlier. Since I couldn't find a matching course code for INFO 6205, I'll provide an answer based on my knowledge.\n",
      "Action: None\n",
      "Action Input: {'type': 'object'}\n",
      "\u001b[0m\u001b[1;3;34mObservation: Error: No such tool named `None`.\n",
      "\u001b[0m> Running step 0bf27d31-a659-4ef7-9135-a8e97e5c5fa9. Step input: None\n",
      "\u001b[1;3;38;5;200mThought: I need to start fresh and provide a new answer.\n",
      "Action: None\n",
      "Action Input: {'type': 'object'}\n",
      "\u001b[0m\u001b[1;3;34mObservation: Error: No such tool named `None`.\n",
      "\u001b[0m> Running step 0fd0ef92-d1be-44ae-9d8d-0447210d2b16. Step input: None\n",
      "\u001b[1;3;38;5;200mThought: Let me try again.\n",
      "Action: QueryEngineTool\n",
      "Action Input: {'type': 'object', 'properties': AttributedDict([('input', AttributedDict([('title', 'Prerequisites not found'), ('type', 'string')]))]), 'required': ['input']}\n",
      "\u001b[0m\u001b[1;3;34mObservation: The query is asking for information related to prerequisites. Based on the context, it appears that there are various courses with different prerequisite structures. Some courses have a single prerequisite course, while others have multiple prerequisite courses or specific grade requirements.\n",
      "\n",
      "Here's an example of how the answer could be structured:\n",
      "\n",
      "```\n",
      "{\n",
      "  \"type\": \"object\",\n",
      "  \"properties\": {\n",
      "    \"input\": {\n",
      "      \"type\": \"string\"\n",
      "    },\n",
      "    \"output\": {\n",
      "      \"type\": \"array\",\n",
      "      \"items\": {\n",
      "        \"type\": \"object\",\n",
      "        \"properties\": {\n",
      "          \"course_name\": {\"type\": \"string\"},\n",
      "          \"prerequisites\": {\"type\": \"array\", \"items\": {\"type\": \"string\"}}\n",
      "        }\n",
      "      }\n",
      "    }\n",
      "  },\n",
      "  \"required\": [\"input\"]\n",
      "}\n",
      "```\n",
      "\n",
      "In this example, the input would be a string representing the course name or code. The output would be an array of objects, where each object contains the course name and its prerequisites.\n",
      "\n",
      "Here's how the answer could look like for specific courses:\n",
      "\n",
      "* CS 4050: Values and Sociotechnical Algorithmic Systems\n",
      "\t+ Course name: Values and Sociotechnical Algorithmic Systems\n",
      "\t+ Prerequisites: [CS 3500 with a minimum grade of D]\n",
      "* CS 4097: Mixed Reality\n",
      "\t+ Course name: Mixed Reality\n",
      "\t+ Prerequisites: [CS 3540 with a minimum grade of D]\n",
      "* ...\n",
      "\u001b[0m> Running step c0112c40-0aac-499c-9f75-e386694971b5. Step input: None\n",
      "\u001b[1;3;38;5;200mThought: I can answer without using any more tools. I'll use the user's language to answer.\n",
      "Answer: For INFO 6205. Program Structure and Algorithms, the prerequisites are not found in the provided context information. However, I can suggest that students typically require a solid understanding of programming concepts, data structures, and algorithms before taking this course.\n",
      "\u001b[0mFor INFO 6205. Program Structure and Algorithms, the prerequisites are not found in the provided context information. However, I can suggest that students typically require a solid understanding of programming concepts, data structures, and algorithms before taking this course.\n"
     ]
    }
   ],
   "source": [
    "response = agent.chat(query)\n",
    "print(response)"
   ]
  },
  {
   "cell_type": "code",
   "execution_count": 257,
   "id": "b1bc0720-5e55-42d2-b947-3d0ccb8988cf",
   "metadata": {},
   "outputs": [
    {
     "name": "stdout",
     "output_type": "stream",
     "text": [
      "> Running step 6740ed8b-6311-49f5-a161-ef0fa07357cf. Step input: \n",
      "# CONTEXT #\n",
      "I am NUGPT, a helpful, fun, and friendly chat assistant for Northeastern University. My primary function is to provide detailed information about the courses offered at Northeastern University, in various programs like Computer Science, Data Science, Information Systems, Project Management, and CPS Analytics. I am equipped to answer questions regarding Course Titles, Course Descriptions, Course Codes, Pre-Requisites, and Co-Requisites.\n",
      "\n",
      "#########\n",
      "\n",
      "# OBJECTIVE #\n",
      "Your task is to accurately and efficiently answer questions related to Northeastern University's courses in various programs like Computer Science, Data Science, Information Systems, Project Management, and CPS Analytics. This includes providing comprehensive information on Course Titles, Course Descriptions, Course Codes, Pre-Requisites, and Co-Requisites. If you encounter a question that is not related to the course data you are trained on, respond appropriately. Ensure that students receive precise and relevant information to help them make informed decisions about their academic paths.\n",
      "\n",
      "#########\n",
      "\n",
      "# STYLE #\n",
      "Write in an informative and instructional style, similar to an academic advisor. Ensure clarity and coherence in presenting each course's information, making it easy for students to understand and use the information provided.\n",
      "\n",
      "#########\n",
      "\n",
      "# TONE #\n",
      "Maintain a positive, motivational, and approachable tone throughout. Your responses should feel supportive and engaging, like a knowledgeable peer or advisor offering valuable insights and guidance.\n",
      "\n",
      "# AUDIENCE #\n",
      "The target audience is current students at Northeastern University, particularly those interested in Computer Science, Data Science, Information Systems, Project Management, and CPS Analytics courses. Assume a readership that is looking for detailed, accurate, and practical academic advice to guide their course selections and academic planning.\n",
      "\n",
      "#########\n",
      "\n",
      "# RESPONSE FORMAT #\n",
      "1. If a question pertains to the courses at Northeastern University, provide:\n",
      "   - **Course Code:** [Code of the course]\n",
      "   - **Course Title:** [Title of the course]\n",
      "   - **Course Description:** [Brief description of the course content and objectives]\n",
      "   - **Pre-Requisites:** [List of courses or requirements that must be completed before enrolling]\n",
      "   - **Co-Requisites:** [List of courses that must be taken concurrently, if any]\n",
      "\n",
      "2. If you don't have the answer to a specific question, respond with:\n",
      "   \"I don't know.\"\n",
      "\n",
      "3. If a question is not related to Northeastern University courses, respond with:\n",
      "   \"I only answer questions about Northeastern Courses.\"\n",
      "   \n",
      "4. If a question is asked from a specific program, give answers only related to that program and not from other programs.\n",
      "   For example: if asked about the prerequisites for Web Development Tools and Methods in the Information Systems program, you should respond with:\n",
      "   INFO 5100 with a minimum grade of B- or INFO 5100 with a minimum grade of B-\n",
      "\n",
      "   If the course is not in that program, then respond with:\n",
      "   \"I only answer questions about courses from the program given in the question.\"\n",
      "\n",
      "   This should be followed for each of the programs offered at the university.\n",
      "\n",
      "#############\n",
      "\n",
      "# START ANALYSIS #\n",
      "If you understand, ask me a question about Northeastern University's courses.\n",
      "Tell me the prerequisites for the Data Science Engineering Methods and Tools course\n",
      "\u001b[1;3;38;5;200mThought: The current language of the user is English. I need to use a tool to help me answer the question.\n",
      "Action: QueryEngineTool\n",
      "Action Input: {'type': 'object', 'properties': AttributedDict([('input', AttributedDict([('title', 'Input'), ('type', 'string')]))]), 'required': ['input'], 'input': 'What are the prerequisites for Data Science Engineering Methods and Tools course?'}\n",
      "\u001b[0m\u001b[1;3;34mObservation: Based on the provided context information, the prerequisite for the \"Data Science Engineering Methods and Tools\" (INFO 6105) course is:\n",
      "\n",
      "INFO 5100 with a minimum grade of B- or INFO 5100 with a minimum grade of B- or CSYE 6200 with a minimum grade of B-\n",
      "\u001b[0m> Running step 9b1c4c03-9124-4ab3-8458-8c407469e22d. Step input: None\n",
      "\u001b[1;3;38;5;200mThought: I can answer without using any more tools. I'll use the user's language to answer\n",
      "Answer: The prerequisites for the \"Data Science Engineering Methods and Tools\" (INFO 6105) course are INFO 5100 with a minimum grade of B- or INFO 5100 with a minimum grade of B- or CSYE 6200 with a minimum grade of B-.\n",
      "\u001b[0m"
     ]
    }
   ],
   "source": [
    "question=\"Tell me the prerequisites for the Data Science Engineering Methods and Tools course\"\n",
    "query=system_instructions+question\n",
    "response = agent.chat(query)\n"
   ]
  },
  {
   "cell_type": "code",
   "execution_count": 258,
   "id": "1a7d2e3d-a27a-440e-be7e-63ce6aac9566",
   "metadata": {},
   "outputs": [
    {
     "name": "stdout",
     "output_type": "stream",
     "text": [
      "The prerequisites for the \"Data Science Engineering Methods and Tools\" (INFO 6105) course are INFO 5100 with a minimum grade of B- or INFO 5100 with a minimum grade of B- or CSYE 6200 with a minimum grade of B-.\n"
     ]
    }
   ],
   "source": [
    "print(response)"
   ]
  },
  {
   "cell_type": "code",
   "execution_count": 266,
   "id": "b2881b16-9889-4d64-bf57-6cbc569901ec",
   "metadata": {},
   "outputs": [
    {
     "name": "stdout",
     "output_type": "stream",
     "text": [
      "> Running step 1120ae4a-b288-4b7b-8a16-ce2cbaed1e2c. Step input: \n",
      "# CONTEXT #\n",
      "I am NUGPT, a helpful, fun, and friendly chat assistant for Northeastern University. My primary function is to provide detailed information about the courses offered at Northeastern University, in various programs like Computer Science, Data Science, Information Systems, Project Management, and CPS Analytics. I am equipped to answer questions regarding Course Titles, Course Descriptions, Course Codes, Pre-Requisites, and Co-Requisites.\n",
      "\n",
      "#########\n",
      "\n",
      "# OBJECTIVE #\n",
      "Your task is to accurately and efficiently answer questions related to Northeastern University's courses in various programs like Computer Science, Data Science, Information Systems, Project Management, and CPS Analytics. This includes providing comprehensive information on Course Titles, Course Descriptions, Course Codes, Pre-Requisites, and Co-Requisites. If you encounter a question that is not related to the course data you are trained on, respond appropriately. Ensure that students receive precise and relevant information to help them make informed decisions about their academic paths.\n",
      "\n",
      "#########\n",
      "\n",
      "# STYLE #\n",
      "Write in an informative and instructional style, similar to an academic advisor. Ensure clarity and coherence in presenting each course's information, making it easy for students to understand and use the information provided.\n",
      "\n",
      "#########\n",
      "\n",
      "# TONE #\n",
      "Maintain a positive, motivational, and approachable tone throughout. Your responses should feel supportive and engaging, like a knowledgeable peer or advisor offering valuable insights and guidance.\n",
      "\n",
      "# AUDIENCE #\n",
      "The target audience is current students at Northeastern University, particularly those interested in Computer Science, Data Science, Information Systems, Project Management, and CPS Analytics courses. Assume a readership that is looking for detailed, accurate, and practical academic advice to guide their course selections and academic planning.\n",
      "\n",
      "#########\n",
      "\n",
      "# RESPONSE FORMAT #\n",
      "1. If a question pertains to the courses at Northeastern University, provide:\n",
      "   - **Course Code:** [Code of the course]\n",
      "   - **Course Title:** [Title of the course]\n",
      "   - **Course Description:** [Brief description of the course content and objectives]\n",
      "   - **Pre-Requisites:** [List of courses or requirements that must be completed before enrolling]\n",
      "   - **Co-Requisites:** [List of courses that must be taken concurrently, if any]\n",
      "\n",
      "2. If you don't have the answer to a specific question, respond with:\n",
      "   \"I don't know.\"\n",
      "\n",
      "3. If a question is not related to Northeastern University courses, respond with:\n",
      "   \"I only answer questions about Northeastern Courses.\"\n",
      "   \n",
      "4. If a question is asked from a specific program, give answers only related to that program and not from other programs.\n",
      "   For example: if asked about the prerequisites for Web Development Tools and Methods in the Information Systems program, you should respond with:\n",
      "   INFO 5100 with a minimum grade of B- or INFO 5100 with a minimum grade of B-\n",
      "\n",
      "   If the course is not in that program, then respond with:\n",
      "   \"I only answer questions about courses from the program given in the question.\"\n",
      "\n",
      "   This should be followed for each of the programs offered at the university.\n",
      "\n",
      "#############\n",
      "\n",
      "# START ANALYSIS #\n",
      "If you understand, ask me a question about Northeastern University's courses.\n",
      "Tell me the prerequisites for the Robotic Science and Systems course\n",
      "\u001b[1;3;34mObservation: Error: Could not parse output. Please follow the thought-action-input format. Try again.\n",
      "\u001b[0m> Running step 8df69cfd-9f5a-4a23-a5a4-16cde72ebc5e. Step input: None\n",
      "\u001b[1;3;38;5;200mThought: I need to provide information about the prerequisites for a course at Northeastern University.\n",
      "Action: QueryEngineTool\n",
      "Action Input: {'type': 'object', 'properties': AttributedDict([('input', AttributedDict([('title', 'Input'), ('type', 'string')]))]), 'required': ['input']}\n",
      "\u001b[0m\u001b[1;3;34mObservation: The CS department offers various courses, including CS 5001: Intensive Foundations of Computer Science, CS 5002: Discrete Structures, and CS 5003: Recitation for CS 5001.\n",
      "\u001b[0m> Running step 8adcfef1-b358-4edf-bc1a-c0e5028b3a22. Step input: None\n",
      "\u001b[1;3;38;5;200mThought: I don't have enough information to answer the question yet.\n",
      "Action: QueryEngineTool\n",
      "Action Input: {'type': 'object'}\n",
      "\u001b[0m\u001b[1;3;34mObservation: Based on the provided context information, it appears that the query is related to a JSON object.\n",
      "\u001b[0m> Running step e2484347-bcb2-4d31-b995-79f968ef7a26. Step input: None\n",
      "\u001b[1;3;38;5;200mThought: The query is looking for attributes or properties of a course at Northeastern University.\n",
      "Action: QueryEngineTool\n",
      "Action Input: {'type': 'object'}\n",
      "\u001b[0m\u001b[1;3;34mObservation: The given context is about course descriptions in Computer Science and Data Science. The provided JSON object represents a query of type \"object\", which could be related to any of these courses or their prerequisites, corequisites, attributes, or other relevant information.\n",
      "\u001b[0m> Running step c26c112c-3759-4478-a8a8-6ab261cfab9e. Step input: None\n",
      "\u001b[1;3;38;5;200mThought: I need to use the QueryEngineTool to help me answer the question about the prerequisites for the Robotic Science and Systems course.\n",
      "Action: QueryEngineTool\n",
      "Action Input: {'type': 'object', 'properties': AttributedDict([('input', 'Robotic Science and Systems')]), 'required': ['input']}\n",
      "\u001b[0m\u001b[1;3;34mObservation: Based on the provided context information, there is no course or program that specifically deals with \"Robotic Science and Systems\". However, some courses in computer science may touch upon topics related to robotics, such as artificial intelligence, machine learning, and human-computer interaction.\n",
      "\n",
      "One possible answer could be a combination of existing courses:\n",
      "\n",
      "* CS 4097. Mixed Reality: This course provides an overview of the fundamentals of virtual and augmented reality, which can be applied to robotic systems.\n",
      "* CS 4120. Natural Language Processing: While not directly related to robotics, this course covers computational modeling of human language and current applications in areas such as information extraction, which could be applied to natural language processing for robots.\n",
      "* CS 6140. Machine Learning: This course provides a broad look at various techniques used in machine learning and data mining, including algorithms for supervised and unsupervised learning, which can be applied to robotic systems.\n",
      "\n",
      "Please note that this is not a direct answer but rather an attempt to combine existing courses that may touch upon topics related to \"Robotic Science and Systems\".\n",
      "\u001b[0m> Running step 29e0e777-d609-4072-9a40-86a12cfbbb97. Step input: None\n",
      "\u001b[1;3;34mObservation: Error: Could not parse output. Please follow the thought-action-input format. Try again.\n",
      "\u001b[0m"
     ]
    },
    {
     "ename": "ValueError",
     "evalue": "Reached max iterations.",
     "output_type": "error",
     "traceback": [
      "\u001b[0;31m---------------------------------------------------------------------------\u001b[0m",
      "\u001b[0;31mValueError\u001b[0m                                Traceback (most recent call last)",
      "Cell \u001b[0;32mIn[266], line 3\u001b[0m\n\u001b[1;32m      1\u001b[0m question\u001b[38;5;241m=\u001b[39m\u001b[38;5;124m\"\u001b[39m\u001b[38;5;124mTell me the prerequisites for the Robotic Science and Systems course\u001b[39m\u001b[38;5;124m\"\u001b[39m\n\u001b[1;32m      2\u001b[0m query\u001b[38;5;241m=\u001b[39msystem_instructions\u001b[38;5;241m+\u001b[39mquestion\n\u001b[0;32m----> 3\u001b[0m response \u001b[38;5;241m=\u001b[39m agent\u001b[38;5;241m.\u001b[39mchat(query)\n",
      "File \u001b[0;32m/opt/anaconda3/lib/python3.12/site-packages/llama_index/core/instrumentation/dispatcher.py:230\u001b[0m, in \u001b[0;36mDispatcher.span.<locals>.wrapper\u001b[0;34m(func, instance, args, kwargs)\u001b[0m\n\u001b[1;32m    226\u001b[0m \u001b[38;5;28mself\u001b[39m\u001b[38;5;241m.\u001b[39mspan_enter(\n\u001b[1;32m    227\u001b[0m     id_\u001b[38;5;241m=\u001b[39mid_, bound_args\u001b[38;5;241m=\u001b[39mbound_args, instance\u001b[38;5;241m=\u001b[39minstance, parent_id\u001b[38;5;241m=\u001b[39mparent_id\n\u001b[1;32m    228\u001b[0m )\n\u001b[1;32m    229\u001b[0m \u001b[38;5;28;01mtry\u001b[39;00m:\n\u001b[0;32m--> 230\u001b[0m     result \u001b[38;5;241m=\u001b[39m func(\u001b[38;5;241m*\u001b[39margs, \u001b[38;5;241m*\u001b[39m\u001b[38;5;241m*\u001b[39mkwargs)\n\u001b[1;32m    231\u001b[0m \u001b[38;5;28;01mexcept\u001b[39;00m \u001b[38;5;167;01mBaseException\u001b[39;00m \u001b[38;5;28;01mas\u001b[39;00m e:\n\u001b[1;32m    232\u001b[0m     \u001b[38;5;28mself\u001b[39m\u001b[38;5;241m.\u001b[39mevent(SpanDropEvent(span_id\u001b[38;5;241m=\u001b[39mid_, err_str\u001b[38;5;241m=\u001b[39m\u001b[38;5;28mstr\u001b[39m(e)))\n",
      "File \u001b[0;32m/opt/anaconda3/lib/python3.12/site-packages/llama_index/core/callbacks/utils.py:41\u001b[0m, in \u001b[0;36mtrace_method.<locals>.decorator.<locals>.wrapper\u001b[0;34m(self, *args, **kwargs)\u001b[0m\n\u001b[1;32m     39\u001b[0m callback_manager \u001b[38;5;241m=\u001b[39m cast(CallbackManager, callback_manager)\n\u001b[1;32m     40\u001b[0m \u001b[38;5;28;01mwith\u001b[39;00m callback_manager\u001b[38;5;241m.\u001b[39mas_trace(trace_id):\n\u001b[0;32m---> 41\u001b[0m     \u001b[38;5;28;01mreturn\u001b[39;00m func(\u001b[38;5;28mself\u001b[39m, \u001b[38;5;241m*\u001b[39margs, \u001b[38;5;241m*\u001b[39m\u001b[38;5;241m*\u001b[39mkwargs)\n",
      "File \u001b[0;32m/opt/anaconda3/lib/python3.12/site-packages/llama_index/core/agent/runner/base.py:640\u001b[0m, in \u001b[0;36mAgentRunner.chat\u001b[0;34m(self, message, chat_history, tool_choice)\u001b[0m\n\u001b[1;32m    635\u001b[0m     tool_choice \u001b[38;5;241m=\u001b[39m \u001b[38;5;28mself\u001b[39m\u001b[38;5;241m.\u001b[39mdefault_tool_choice\n\u001b[1;32m    636\u001b[0m \u001b[38;5;28;01mwith\u001b[39;00m \u001b[38;5;28mself\u001b[39m\u001b[38;5;241m.\u001b[39mcallback_manager\u001b[38;5;241m.\u001b[39mevent(\n\u001b[1;32m    637\u001b[0m     CBEventType\u001b[38;5;241m.\u001b[39mAGENT_STEP,\n\u001b[1;32m    638\u001b[0m     payload\u001b[38;5;241m=\u001b[39m{EventPayload\u001b[38;5;241m.\u001b[39mMESSAGES: [message]},\n\u001b[1;32m    639\u001b[0m ) \u001b[38;5;28;01mas\u001b[39;00m e:\n\u001b[0;32m--> 640\u001b[0m     chat_response \u001b[38;5;241m=\u001b[39m \u001b[38;5;28mself\u001b[39m\u001b[38;5;241m.\u001b[39m_chat(\n\u001b[1;32m    641\u001b[0m         message\u001b[38;5;241m=\u001b[39mmessage,\n\u001b[1;32m    642\u001b[0m         chat_history\u001b[38;5;241m=\u001b[39mchat_history,\n\u001b[1;32m    643\u001b[0m         tool_choice\u001b[38;5;241m=\u001b[39mtool_choice,\n\u001b[1;32m    644\u001b[0m         mode\u001b[38;5;241m=\u001b[39mChatResponseMode\u001b[38;5;241m.\u001b[39mWAIT,\n\u001b[1;32m    645\u001b[0m     )\n\u001b[1;32m    646\u001b[0m     \u001b[38;5;28;01massert\u001b[39;00m \u001b[38;5;28misinstance\u001b[39m(chat_response, AgentChatResponse)\n\u001b[1;32m    647\u001b[0m     e\u001b[38;5;241m.\u001b[39mon_end(payload\u001b[38;5;241m=\u001b[39m{EventPayload\u001b[38;5;241m.\u001b[39mRESPONSE: chat_response})\n",
      "File \u001b[0;32m/opt/anaconda3/lib/python3.12/site-packages/llama_index/core/instrumentation/dispatcher.py:230\u001b[0m, in \u001b[0;36mDispatcher.span.<locals>.wrapper\u001b[0;34m(func, instance, args, kwargs)\u001b[0m\n\u001b[1;32m    226\u001b[0m \u001b[38;5;28mself\u001b[39m\u001b[38;5;241m.\u001b[39mspan_enter(\n\u001b[1;32m    227\u001b[0m     id_\u001b[38;5;241m=\u001b[39mid_, bound_args\u001b[38;5;241m=\u001b[39mbound_args, instance\u001b[38;5;241m=\u001b[39minstance, parent_id\u001b[38;5;241m=\u001b[39mparent_id\n\u001b[1;32m    228\u001b[0m )\n\u001b[1;32m    229\u001b[0m \u001b[38;5;28;01mtry\u001b[39;00m:\n\u001b[0;32m--> 230\u001b[0m     result \u001b[38;5;241m=\u001b[39m func(\u001b[38;5;241m*\u001b[39margs, \u001b[38;5;241m*\u001b[39m\u001b[38;5;241m*\u001b[39mkwargs)\n\u001b[1;32m    231\u001b[0m \u001b[38;5;28;01mexcept\u001b[39;00m \u001b[38;5;167;01mBaseException\u001b[39;00m \u001b[38;5;28;01mas\u001b[39;00m e:\n\u001b[1;32m    232\u001b[0m     \u001b[38;5;28mself\u001b[39m\u001b[38;5;241m.\u001b[39mevent(SpanDropEvent(span_id\u001b[38;5;241m=\u001b[39mid_, err_str\u001b[38;5;241m=\u001b[39m\u001b[38;5;28mstr\u001b[39m(e)))\n",
      "File \u001b[0;32m/opt/anaconda3/lib/python3.12/site-packages/llama_index/core/agent/runner/base.py:572\u001b[0m, in \u001b[0;36mAgentRunner._chat\u001b[0;34m(self, message, chat_history, tool_choice, mode)\u001b[0m\n\u001b[1;32m    569\u001b[0m dispatcher\u001b[38;5;241m.\u001b[39mevent(AgentChatWithStepStartEvent(user_msg\u001b[38;5;241m=\u001b[39mmessage))\n\u001b[1;32m    570\u001b[0m \u001b[38;5;28;01mwhile\u001b[39;00m \u001b[38;5;28;01mTrue\u001b[39;00m:\n\u001b[1;32m    571\u001b[0m     \u001b[38;5;66;03m# pass step queue in as argument, assume step executor is stateless\u001b[39;00m\n\u001b[0;32m--> 572\u001b[0m     cur_step_output \u001b[38;5;241m=\u001b[39m \u001b[38;5;28mself\u001b[39m\u001b[38;5;241m.\u001b[39m_run_step(\n\u001b[1;32m    573\u001b[0m         task\u001b[38;5;241m.\u001b[39mtask_id, mode\u001b[38;5;241m=\u001b[39mmode, tool_choice\u001b[38;5;241m=\u001b[39mtool_choice\n\u001b[1;32m    574\u001b[0m     )\n\u001b[1;32m    576\u001b[0m     \u001b[38;5;28;01mif\u001b[39;00m cur_step_output\u001b[38;5;241m.\u001b[39mis_last:\n\u001b[1;32m    577\u001b[0m         result_output \u001b[38;5;241m=\u001b[39m cur_step_output\n",
      "File \u001b[0;32m/opt/anaconda3/lib/python3.12/site-packages/llama_index/core/instrumentation/dispatcher.py:230\u001b[0m, in \u001b[0;36mDispatcher.span.<locals>.wrapper\u001b[0;34m(func, instance, args, kwargs)\u001b[0m\n\u001b[1;32m    226\u001b[0m \u001b[38;5;28mself\u001b[39m\u001b[38;5;241m.\u001b[39mspan_enter(\n\u001b[1;32m    227\u001b[0m     id_\u001b[38;5;241m=\u001b[39mid_, bound_args\u001b[38;5;241m=\u001b[39mbound_args, instance\u001b[38;5;241m=\u001b[39minstance, parent_id\u001b[38;5;241m=\u001b[39mparent_id\n\u001b[1;32m    228\u001b[0m )\n\u001b[1;32m    229\u001b[0m \u001b[38;5;28;01mtry\u001b[39;00m:\n\u001b[0;32m--> 230\u001b[0m     result \u001b[38;5;241m=\u001b[39m func(\u001b[38;5;241m*\u001b[39margs, \u001b[38;5;241m*\u001b[39m\u001b[38;5;241m*\u001b[39mkwargs)\n\u001b[1;32m    231\u001b[0m \u001b[38;5;28;01mexcept\u001b[39;00m \u001b[38;5;167;01mBaseException\u001b[39;00m \u001b[38;5;28;01mas\u001b[39;00m e:\n\u001b[1;32m    232\u001b[0m     \u001b[38;5;28mself\u001b[39m\u001b[38;5;241m.\u001b[39mevent(SpanDropEvent(span_id\u001b[38;5;241m=\u001b[39mid_, err_str\u001b[38;5;241m=\u001b[39m\u001b[38;5;28mstr\u001b[39m(e)))\n",
      "File \u001b[0;32m/opt/anaconda3/lib/python3.12/site-packages/llama_index/core/agent/runner/base.py:411\u001b[0m, in \u001b[0;36mAgentRunner._run_step\u001b[0;34m(self, task_id, step, input, mode, **kwargs)\u001b[0m\n\u001b[1;32m    407\u001b[0m \u001b[38;5;66;03m# TODO: figure out if you can dynamically swap in different step executors\u001b[39;00m\n\u001b[1;32m    408\u001b[0m \u001b[38;5;66;03m# not clear when you would do that by theoretically possible\u001b[39;00m\n\u001b[1;32m    410\u001b[0m \u001b[38;5;28;01mif\u001b[39;00m mode \u001b[38;5;241m==\u001b[39m ChatResponseMode\u001b[38;5;241m.\u001b[39mWAIT:\n\u001b[0;32m--> 411\u001b[0m     cur_step_output \u001b[38;5;241m=\u001b[39m \u001b[38;5;28mself\u001b[39m\u001b[38;5;241m.\u001b[39magent_worker\u001b[38;5;241m.\u001b[39mrun_step(step, task, \u001b[38;5;241m*\u001b[39m\u001b[38;5;241m*\u001b[39mkwargs)\n\u001b[1;32m    412\u001b[0m \u001b[38;5;28;01melif\u001b[39;00m mode \u001b[38;5;241m==\u001b[39m ChatResponseMode\u001b[38;5;241m.\u001b[39mSTREAM:\n\u001b[1;32m    413\u001b[0m     cur_step_output \u001b[38;5;241m=\u001b[39m \u001b[38;5;28mself\u001b[39m\u001b[38;5;241m.\u001b[39magent_worker\u001b[38;5;241m.\u001b[39mstream_step(step, task, \u001b[38;5;241m*\u001b[39m\u001b[38;5;241m*\u001b[39mkwargs)\n",
      "File \u001b[0;32m/opt/anaconda3/lib/python3.12/site-packages/llama_index/core/instrumentation/dispatcher.py:230\u001b[0m, in \u001b[0;36mDispatcher.span.<locals>.wrapper\u001b[0;34m(func, instance, args, kwargs)\u001b[0m\n\u001b[1;32m    226\u001b[0m \u001b[38;5;28mself\u001b[39m\u001b[38;5;241m.\u001b[39mspan_enter(\n\u001b[1;32m    227\u001b[0m     id_\u001b[38;5;241m=\u001b[39mid_, bound_args\u001b[38;5;241m=\u001b[39mbound_args, instance\u001b[38;5;241m=\u001b[39minstance, parent_id\u001b[38;5;241m=\u001b[39mparent_id\n\u001b[1;32m    228\u001b[0m )\n\u001b[1;32m    229\u001b[0m \u001b[38;5;28;01mtry\u001b[39;00m:\n\u001b[0;32m--> 230\u001b[0m     result \u001b[38;5;241m=\u001b[39m func(\u001b[38;5;241m*\u001b[39margs, \u001b[38;5;241m*\u001b[39m\u001b[38;5;241m*\u001b[39mkwargs)\n\u001b[1;32m    231\u001b[0m \u001b[38;5;28;01mexcept\u001b[39;00m \u001b[38;5;167;01mBaseException\u001b[39;00m \u001b[38;5;28;01mas\u001b[39;00m e:\n\u001b[1;32m    232\u001b[0m     \u001b[38;5;28mself\u001b[39m\u001b[38;5;241m.\u001b[39mevent(SpanDropEvent(span_id\u001b[38;5;241m=\u001b[39mid_, err_str\u001b[38;5;241m=\u001b[39m\u001b[38;5;28mstr\u001b[39m(e)))\n",
      "File \u001b[0;32m/opt/anaconda3/lib/python3.12/site-packages/llama_index/core/callbacks/utils.py:41\u001b[0m, in \u001b[0;36mtrace_method.<locals>.decorator.<locals>.wrapper\u001b[0;34m(self, *args, **kwargs)\u001b[0m\n\u001b[1;32m     39\u001b[0m callback_manager \u001b[38;5;241m=\u001b[39m cast(CallbackManager, callback_manager)\n\u001b[1;32m     40\u001b[0m \u001b[38;5;28;01mwith\u001b[39;00m callback_manager\u001b[38;5;241m.\u001b[39mas_trace(trace_id):\n\u001b[0;32m---> 41\u001b[0m     \u001b[38;5;28;01mreturn\u001b[39;00m func(\u001b[38;5;28mself\u001b[39m, \u001b[38;5;241m*\u001b[39margs, \u001b[38;5;241m*\u001b[39m\u001b[38;5;241m*\u001b[39mkwargs)\n",
      "File \u001b[0;32m/opt/anaconda3/lib/python3.12/site-packages/llama_index/core/agent/react/step.py:781\u001b[0m, in \u001b[0;36mReActAgentWorker.run_step\u001b[0;34m(self, step, task, **kwargs)\u001b[0m\n\u001b[1;32m    778\u001b[0m \u001b[38;5;129m@trace_method\u001b[39m(\u001b[38;5;124m\"\u001b[39m\u001b[38;5;124mrun_step\u001b[39m\u001b[38;5;124m\"\u001b[39m)\n\u001b[1;32m    779\u001b[0m \u001b[38;5;28;01mdef\u001b[39;00m \u001b[38;5;21mrun_step\u001b[39m(\u001b[38;5;28mself\u001b[39m, step: TaskStep, task: Task, \u001b[38;5;241m*\u001b[39m\u001b[38;5;241m*\u001b[39mkwargs: Any) \u001b[38;5;241m-\u001b[39m\u001b[38;5;241m>\u001b[39m TaskStepOutput:\n\u001b[1;32m    780\u001b[0m \u001b[38;5;250m    \u001b[39m\u001b[38;5;124;03m\"\"\"Run step.\"\"\"\u001b[39;00m\n\u001b[0;32m--> 781\u001b[0m     \u001b[38;5;28;01mreturn\u001b[39;00m \u001b[38;5;28mself\u001b[39m\u001b[38;5;241m.\u001b[39m_run_step(step, task)\n",
      "File \u001b[0;32m/opt/anaconda3/lib/python3.12/site-packages/llama_index/core/agent/react/step.py:573\u001b[0m, in \u001b[0;36mReActAgentWorker._run_step\u001b[0;34m(self, step, task)\u001b[0m\n\u001b[1;32m    569\u001b[0m reasoning_steps, is_done \u001b[38;5;241m=\u001b[39m \u001b[38;5;28mself\u001b[39m\u001b[38;5;241m.\u001b[39m_process_actions(\n\u001b[1;32m    570\u001b[0m     task, tools, output\u001b[38;5;241m=\u001b[39mchat_response\n\u001b[1;32m    571\u001b[0m )\n\u001b[1;32m    572\u001b[0m task\u001b[38;5;241m.\u001b[39mextra_state[\u001b[38;5;124m\"\u001b[39m\u001b[38;5;124mcurrent_reasoning\u001b[39m\u001b[38;5;124m\"\u001b[39m]\u001b[38;5;241m.\u001b[39mextend(reasoning_steps)\n\u001b[0;32m--> 573\u001b[0m agent_response \u001b[38;5;241m=\u001b[39m \u001b[38;5;28mself\u001b[39m\u001b[38;5;241m.\u001b[39m_get_response(\n\u001b[1;32m    574\u001b[0m     task\u001b[38;5;241m.\u001b[39mextra_state[\u001b[38;5;124m\"\u001b[39m\u001b[38;5;124mcurrent_reasoning\u001b[39m\u001b[38;5;124m\"\u001b[39m], task\u001b[38;5;241m.\u001b[39mextra_state[\u001b[38;5;124m\"\u001b[39m\u001b[38;5;124msources\u001b[39m\u001b[38;5;124m\"\u001b[39m]\n\u001b[1;32m    575\u001b[0m )\n\u001b[1;32m    576\u001b[0m \u001b[38;5;28;01mif\u001b[39;00m is_done:\n\u001b[1;32m    577\u001b[0m     task\u001b[38;5;241m.\u001b[39mextra_state[\u001b[38;5;124m\"\u001b[39m\u001b[38;5;124mnew_memory\u001b[39m\u001b[38;5;124m\"\u001b[39m]\u001b[38;5;241m.\u001b[39mput(\n\u001b[1;32m    578\u001b[0m         ChatMessage(content\u001b[38;5;241m=\u001b[39magent_response\u001b[38;5;241m.\u001b[39mresponse, role\u001b[38;5;241m=\u001b[39mMessageRole\u001b[38;5;241m.\u001b[39mASSISTANT)\n\u001b[1;32m    579\u001b[0m     )\n",
      "File \u001b[0;32m/opt/anaconda3/lib/python3.12/site-packages/llama_index/core/agent/react/step.py:434\u001b[0m, in \u001b[0;36mReActAgentWorker._get_response\u001b[0;34m(self, current_reasoning, sources)\u001b[0m\n\u001b[1;32m    432\u001b[0m     \u001b[38;5;28;01mraise\u001b[39;00m \u001b[38;5;167;01mValueError\u001b[39;00m(\u001b[38;5;124m\"\u001b[39m\u001b[38;5;124mNo reasoning steps were taken.\u001b[39m\u001b[38;5;124m\"\u001b[39m)\n\u001b[1;32m    433\u001b[0m \u001b[38;5;28;01melif\u001b[39;00m \u001b[38;5;28mlen\u001b[39m(current_reasoning) \u001b[38;5;241m==\u001b[39m \u001b[38;5;28mself\u001b[39m\u001b[38;5;241m.\u001b[39m_max_iterations:\n\u001b[0;32m--> 434\u001b[0m     \u001b[38;5;28;01mraise\u001b[39;00m \u001b[38;5;167;01mValueError\u001b[39;00m(\u001b[38;5;124m\"\u001b[39m\u001b[38;5;124mReached max iterations.\u001b[39m\u001b[38;5;124m\"\u001b[39m)\n\u001b[1;32m    436\u001b[0m \u001b[38;5;28;01mif\u001b[39;00m \u001b[38;5;28misinstance\u001b[39m(current_reasoning[\u001b[38;5;241m-\u001b[39m\u001b[38;5;241m1\u001b[39m], ResponseReasoningStep):\n\u001b[1;32m    437\u001b[0m     response_step \u001b[38;5;241m=\u001b[39m cast(ResponseReasoningStep, current_reasoning[\u001b[38;5;241m-\u001b[39m\u001b[38;5;241m1\u001b[39m])\n",
      "\u001b[0;31mValueError\u001b[0m: Reached max iterations."
     ]
    }
   ],
   "source": [
    "question=\"Tell me the prerequisites for the Robotic Science and Systems course\"\n",
    "query=system_instructions+question\n",
    "response = agent.chat(query)\n"
   ]
  },
  {
   "cell_type": "code",
   "execution_count": 269,
   "id": "c7f91a6e-221f-457e-8229-474301878e48",
   "metadata": {},
   "outputs": [
    {
     "name": "stdout",
     "output_type": "stream",
     "text": [
      "The prerequisites for the \"Data Science Engineering Methods and Tools\" (INFO 6105) course are INFO 5100 with a minimum grade of B- or INFO 5100 with a minimum grade of B- or CSYE 6200 with a minimum grade of B-.\n"
     ]
    }
   ],
   "source": [
    "print(response)"
   ]
  },
  {
   "cell_type": "code",
   "execution_count": 1,
   "id": "3589b168-d9fb-4e7c-97ed-f34c0f0f2074",
   "metadata": {},
   "outputs": [
    {
     "ename": "ModuleNotFoundError",
     "evalue": "No module named 'llama_index.llms.ollama_embedding'",
     "output_type": "error",
     "traceback": [
      "\u001b[0;31m---------------------------------------------------------------------------\u001b[0m",
      "\u001b[0;31mModuleNotFoundError\u001b[0m                       Traceback (most recent call last)",
      "Cell \u001b[0;32mIn[1], line 4\u001b[0m\n\u001b[1;32m      2\u001b[0m \u001b[38;5;28;01mfrom\u001b[39;00m \u001b[38;5;21;01mfastapi\u001b[39;00m \u001b[38;5;28;01mimport\u001b[39;00m FastAPI,HTTPException\n\u001b[1;32m      3\u001b[0m \u001b[38;5;28;01mfrom\u001b[39;00m \u001b[38;5;21;01mllama_index\u001b[39;00m\u001b[38;5;21;01m.\u001b[39;00m\u001b[38;5;21;01mllms\u001b[39;00m\u001b[38;5;21;01m.\u001b[39;00m\u001b[38;5;21;01mollama\u001b[39;00m \u001b[38;5;28;01mimport\u001b[39;00m Ollama\n\u001b[0;32m----> 4\u001b[0m \u001b[38;5;28;01mfrom\u001b[39;00m \u001b[38;5;21;01mllama_index\u001b[39;00m\u001b[38;5;21;01m.\u001b[39;00m\u001b[38;5;21;01mllms\u001b[39;00m\u001b[38;5;21;01m.\u001b[39;00m\u001b[38;5;21;01mollama_embedding\u001b[39;00m \u001b[38;5;28;01mimport\u001b[39;00m OllamaEmbedding  \u001b[38;5;66;03m# Assuming this is your embedding model\u001b[39;00m\n\u001b[1;32m      5\u001b[0m \u001b[38;5;28;01mfrom\u001b[39;00m \u001b[38;5;21;01mllama_index\u001b[39;00m\u001b[38;5;21;01m.\u001b[39;00m\u001b[38;5;21;01mcore\u001b[39;00m\u001b[38;5;21;01m.\u001b[39;00m\u001b[38;5;21;01mtools\u001b[39;00m \u001b[38;5;28;01mimport\u001b[39;00m QueryEngineTool, ToolMetadata\n\u001b[1;32m      6\u001b[0m \u001b[38;5;28;01mfrom\u001b[39;00m \u001b[38;5;21;01mllama_index\u001b[39;00m\u001b[38;5;21;01m.\u001b[39;00m\u001b[38;5;21;01mcore\u001b[39;00m\u001b[38;5;21;01m.\u001b[39;00m\u001b[38;5;21;01magent\u001b[39;00m \u001b[38;5;28;01mimport\u001b[39;00m ReActAgent\n",
      "\u001b[0;31mModuleNotFoundError\u001b[0m: No module named 'llama_index.llms.ollama_embedding'"
     ]
    }
   ],
   "source": [
    "import os\n",
    "from fastapi import FastAPI,HTTPException\n",
    "from llama_index.llms.ollama import Ollama\n",
    "from llama_index.llms.ollama_embedding import OllamaEmbedding  # Assuming this is your embedding model\n",
    "from llama_index.core.tools import QueryEngineTool, ToolMetadata\n",
    "from llama_index.core.agent import ReActAgent\n",
    "from llama_index.core import VectorStoreIndex, Settings\n",
    "import index\n",
    "\n",
    "class Agent:\n",
    "    def __init__(self, directory: str, storage_directory: str):\n",
    "        self.directory = directory\n",
    "        self.storage_directory = storage_directory\n",
    "        self.index = index.Index(directory, storage_directory).load_index()\n",
    "        if self.index is None:\n",
    "            raise ValueError(\"Failed to load or create the index.\")\n",
    "        \n",
    "        # Initialize query engine with similarity_top_k=3\n",
    "        self.embedding = OllamaEmbedding(\n",
    "            model_name=\"mxbai-embed-large\",\n",
    "   \n",
    "        )\n",
    "        self.query_engine = self.index.as_query_engine(\n",
    "            similarity_top_k=3,\n",
    "            embedding_model=self.embedding # Use the embedding model\n",
    "        )\n",
    "        \n",
    "\n",
    "        \n",
    "        # Define metadata for the tool\n",
    "        self.metadata = ToolMetadata(\n",
    "            name=\"QueryEngineTool\",\n",
    "            description=(\"Handles queries related to Computer Science courses.\")\n",
    "        )\n",
    "        \n",
    "        # Initialize the query engine tool with metadata\n",
    "        self.query_engine_tool = QueryEngineTool(\n",
    "            query_engine=self.query_engine,\n",
    "            metadata=self.metadata\n",
    "        )\n",
    "        \n",
    "        # Define ReAct Agent with the query engine tool\n",
    "        self.llm = Ollama(model=\"llama3\", request_timeout=60.0)\n",
    "        self.agent = ReActAgent.from_tools([self.query_engine_tool], llm=self.llm, verbose=True)\n",
    "\n",
    "    def query(self, query: str) -> str:\n",
    "        if self.index is None:\n",
    "            raise HTTPException(status_code=500, detail=\"Index is not loaded.\")\n",
    "        \n",
    "        # Use the ReAct agent for querying\n",
    "        response = self.agent.chat(query)\n",
    "        return response\n",
    "\n",
    "    def get_react_agent(self) -> ReActAgent:\n",
    "        return self.agent\n",
    "\n",
    "async def get_chat_response(message: str) -> str:\n",
    "    \"\"\"\n",
    "    Mocks the processing of a chat message and returns a response.\n",
    "\n",
    "    Args:\n",
    "        message (str): The chat message to be processed.\n",
    "\n",
    "    Returns:\n",
    "        str: A mock response to the chat message.\n",
    "    \"\"\"\n",
    "    try:\n",
    "        directory = os.getenv(\"DATA_STORAGE_DIRECTORY\")\n",
    "        storage_directory = os.getenv(\"INDEX_STORAGE_DIRECTORY\")\n",
    "        \n",
    "        # Configure and query the primary agent\n",
    "        agent = Agent(directory, storage_directory)\n",
    "        react_agent = agent.get_react_agent()\n",
    "        \n",
    "        response = react_agent.chat(message)\n",
    "        \n",
    "        return f\"This is a mock response to your message: {response}\"\n",
    "    except Exception as e:\n",
    "        raise HTTPException(status_code=500, detail=str(e))\n",
    "\n",
    "# Include if needed later\n",
    "\"\"\"\n",
    "if __name__ == \"__main__\":\n",
    "    import uvicorn\n",
    "    uvicorn.run(app, host=\"localhost\", port=8003)\n",
    "\"\"\""
   ]
  },
  {
   "cell_type": "code",
   "execution_count": null,
   "id": "c969e0d7-1cea-4802-b24c-02322f236037",
   "metadata": {},
   "outputs": [],
   "source": []
  }
 ],
 "metadata": {
  "kernelspec": {
   "display_name": "Python (NuGpt)",
   "language": "python",
   "name": "nugpt"
  },
  "language_info": {
   "codemirror_mode": {
    "name": "ipython",
    "version": 3
   },
   "file_extension": ".py",
   "mimetype": "text/x-python",
   "name": "python",
   "nbconvert_exporter": "python",
   "pygments_lexer": "ipython3",
   "version": "3.12.4"
  }
 },
 "nbformat": 4,
 "nbformat_minor": 5
}
